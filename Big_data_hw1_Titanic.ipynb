{
  "nbformat": 4,
  "nbformat_minor": 0,
  "metadata": {
    "colab": {
      "name": "Big data hw1 Titanic.ipynb",
      "provenance": []
    },
    "kernelspec": {
      "name": "python3",
      "display_name": "Python 3"
    }
  },
  "cells": [
    {
      "cell_type": "code",
      "metadata": {
        "id": "4RSJusbJmKjx"
      },
      "source": [
        "import pandas as pd\n",
        "import matplotlib.pylab as plt\n",
        "import seaborn as sns\n",
        "from sklearn.model_selection import train_test_split\n",
        "from sklearn import preprocessing\n",
        "import numpy as np\n",
        "from sklearn.preprocessing import MinMaxScaler\n",
        "\n"
      ],
      "execution_count": null,
      "outputs": []
    },
    {
      "cell_type": "code",
      "metadata": {
        "id": "g3kEO0tCmQbR"
      },
      "source": [
        "df = pd.read_csv(\"/content/drive/MyDrive/Big Data Analytics/titanic_train.csv\")\n",
        "df_test = pd.read_csv(\"/content/drive/MyDrive/Big Data Analytics/titanic_test.csv\")"
      ],
      "execution_count": null,
      "outputs": []
    },
    {
      "cell_type": "code",
      "metadata": {
        "colab": {
          "base_uri": "https://localhost:8080/",
          "height": 204
        },
        "id": "vk2IwendmX-u",
        "outputId": "7d9bd7b5-2751-4d12-bf96-c252dce9cadc"
      },
      "source": [
        "df.head()"
      ],
      "execution_count": null,
      "outputs": [
        {
          "output_type": "execute_result",
          "data": {
            "text/html": [
              "<div>\n",
              "<style scoped>\n",
              "    .dataframe tbody tr th:only-of-type {\n",
              "        vertical-align: middle;\n",
              "    }\n",
              "\n",
              "    .dataframe tbody tr th {\n",
              "        vertical-align: top;\n",
              "    }\n",
              "\n",
              "    .dataframe thead th {\n",
              "        text-align: right;\n",
              "    }\n",
              "</style>\n",
              "<table border=\"1\" class=\"dataframe\">\n",
              "  <thead>\n",
              "    <tr style=\"text-align: right;\">\n",
              "      <th></th>\n",
              "      <th>PassengerId</th>\n",
              "      <th>Survived</th>\n",
              "      <th>Pclass</th>\n",
              "      <th>Name</th>\n",
              "      <th>Sex</th>\n",
              "      <th>Age</th>\n",
              "      <th>SibSp</th>\n",
              "      <th>Parch</th>\n",
              "      <th>Ticket</th>\n",
              "      <th>Fare</th>\n",
              "      <th>Cabin</th>\n",
              "      <th>Embarked</th>\n",
              "    </tr>\n",
              "  </thead>\n",
              "  <tbody>\n",
              "    <tr>\n",
              "      <th>0</th>\n",
              "      <td>1</td>\n",
              "      <td>0</td>\n",
              "      <td>3</td>\n",
              "      <td>Braund, Mr. Owen Harris</td>\n",
              "      <td>1</td>\n",
              "      <td>22.0</td>\n",
              "      <td>1</td>\n",
              "      <td>0</td>\n",
              "      <td>A/5 21171</td>\n",
              "      <td>7.2500</td>\n",
              "      <td>NaN</td>\n",
              "      <td>1.0</td>\n",
              "    </tr>\n",
              "    <tr>\n",
              "      <th>1</th>\n",
              "      <td>2</td>\n",
              "      <td>1</td>\n",
              "      <td>1</td>\n",
              "      <td>Cumings, Mrs. John Bradley (Florence Briggs Th...</td>\n",
              "      <td>2</td>\n",
              "      <td>38.0</td>\n",
              "      <td>1</td>\n",
              "      <td>0</td>\n",
              "      <td>PC 17599</td>\n",
              "      <td>71.2833</td>\n",
              "      <td>C85</td>\n",
              "      <td>2.0</td>\n",
              "    </tr>\n",
              "    <tr>\n",
              "      <th>2</th>\n",
              "      <td>3</td>\n",
              "      <td>1</td>\n",
              "      <td>3</td>\n",
              "      <td>Heikkinen, Miss. Laina</td>\n",
              "      <td>2</td>\n",
              "      <td>26.0</td>\n",
              "      <td>0</td>\n",
              "      <td>0</td>\n",
              "      <td>STON/O2. 3101282</td>\n",
              "      <td>7.9250</td>\n",
              "      <td>NaN</td>\n",
              "      <td>1.0</td>\n",
              "    </tr>\n",
              "    <tr>\n",
              "      <th>3</th>\n",
              "      <td>4</td>\n",
              "      <td>1</td>\n",
              "      <td>1</td>\n",
              "      <td>Futrelle, Mrs. Jacques Heath (Lily May Peel)</td>\n",
              "      <td>2</td>\n",
              "      <td>35.0</td>\n",
              "      <td>1</td>\n",
              "      <td>0</td>\n",
              "      <td>113803</td>\n",
              "      <td>53.1000</td>\n",
              "      <td>C123</td>\n",
              "      <td>1.0</td>\n",
              "    </tr>\n",
              "    <tr>\n",
              "      <th>4</th>\n",
              "      <td>5</td>\n",
              "      <td>0</td>\n",
              "      <td>3</td>\n",
              "      <td>Allen, Mr. William Henry</td>\n",
              "      <td>1</td>\n",
              "      <td>35.0</td>\n",
              "      <td>0</td>\n",
              "      <td>0</td>\n",
              "      <td>373450</td>\n",
              "      <td>8.0500</td>\n",
              "      <td>NaN</td>\n",
              "      <td>1.0</td>\n",
              "    </tr>\n",
              "  </tbody>\n",
              "</table>\n",
              "</div>"
            ],
            "text/plain": [
              "   PassengerId  Survived  Pclass  ...     Fare  Cabin  Embarked\n",
              "0            1         0       3  ...   7.2500    NaN       1.0\n",
              "1            2         1       1  ...  71.2833    C85       2.0\n",
              "2            3         1       3  ...   7.9250    NaN       1.0\n",
              "3            4         1       1  ...  53.1000   C123       1.0\n",
              "4            5         0       3  ...   8.0500    NaN       1.0\n",
              "\n",
              "[5 rows x 12 columns]"
            ]
          },
          "metadata": {
            "tags": []
          },
          "execution_count": 59
        }
      ]
    },
    {
      "cell_type": "code",
      "metadata": {
        "id": "JV14gWR53CyP"
      },
      "source": [
        "df.dtypes"
      ],
      "execution_count": null,
      "outputs": []
    },
    {
      "cell_type": "code",
      "metadata": {
        "id": "1QVsaae0Fi_D"
      },
      "source": [
        "df_test.head()"
      ],
      "execution_count": null,
      "outputs": []
    },
    {
      "cell_type": "code",
      "metadata": {
        "id": "bY-ibjaycDnW"
      },
      "source": [
        "df.isnull().sum()"
      ],
      "execution_count": null,
      "outputs": []
    },
    {
      "cell_type": "code",
      "metadata": {
        "id": "md19-bbf4HUE"
      },
      "source": [
        "df_test.isnull().sum()"
      ],
      "execution_count": null,
      "outputs": []
    },
    {
      "cell_type": "code",
      "metadata": {
        "id": "rVPJr6WGv0BW"
      },
      "source": [
        "df[\"Embarked\"].value_counts()"
      ],
      "execution_count": null,
      "outputs": []
    },
    {
      "cell_type": "code",
      "metadata": {
        "id": "Yo73zBGHNux8"
      },
      "source": [
        "#Nominal to numerical\n",
        "Embarked = {\"S\":1, \"C\":2, \"Q\":3}\n",
        "df[\"Embarked\"] = df[\"Embarked\"].map(Embarked)\n",
        "df_test[\"Embarked\"] = df_test[\"Embarked\"].map(Embarked)\n",
        "\n",
        "Sex = {\"male\":1, \"female\":2}\n",
        "df[\"Sex\"] = df[\"Sex\"].map(Sex)\n",
        "df_test[\"Sex\"] = df_test[\"Sex\"].map(Sex)\n"
      ],
      "execution_count": null,
      "outputs": []
    },
    {
      "cell_type": "code",
      "metadata": {
        "id": "TgohZ91EdBo9"
      },
      "source": [
        "#Fill Nan\n",
        "df[\"Age\"] = df[\"Age\"].fillna(np.nanmean(df[\"Age\"]))\n",
        "df_test[\"Age\"] = df_test[\"Age\"].fillna(np.nanmean(df_test[\"Age\"]))\n",
        "\n",
        "df[\"Embarked\"] = df[\"Embarked\"].fillna(1.0)\n",
        "\n",
        "df_test[\"Fare\"] = df_test[\"Fare\"].fillna(np.nanmean(df_test[\"Fare\"]))\n"
      ],
      "execution_count": null,
      "outputs": []
    },
    {
      "cell_type": "code",
      "metadata": {
        "colab": {
          "base_uri": "https://localhost:8080/",
          "height": 204
        },
        "id": "wwVuk2hZ49Q4",
        "outputId": "875b9d64-88d8-481e-fe89-e0d9afeaf124"
      },
      "source": [
        "df.head()"
      ],
      "execution_count": null,
      "outputs": [
        {
          "output_type": "execute_result",
          "data": {
            "text/html": [
              "<div>\n",
              "<style scoped>\n",
              "    .dataframe tbody tr th:only-of-type {\n",
              "        vertical-align: middle;\n",
              "    }\n",
              "\n",
              "    .dataframe tbody tr th {\n",
              "        vertical-align: top;\n",
              "    }\n",
              "\n",
              "    .dataframe thead th {\n",
              "        text-align: right;\n",
              "    }\n",
              "</style>\n",
              "<table border=\"1\" class=\"dataframe\">\n",
              "  <thead>\n",
              "    <tr style=\"text-align: right;\">\n",
              "      <th></th>\n",
              "      <th>PassengerId</th>\n",
              "      <th>Survived</th>\n",
              "      <th>Pclass</th>\n",
              "      <th>Name</th>\n",
              "      <th>Sex</th>\n",
              "      <th>Age</th>\n",
              "      <th>SibSp</th>\n",
              "      <th>Parch</th>\n",
              "      <th>Ticket</th>\n",
              "      <th>Fare</th>\n",
              "      <th>Cabin</th>\n",
              "      <th>Embarked</th>\n",
              "    </tr>\n",
              "  </thead>\n",
              "  <tbody>\n",
              "    <tr>\n",
              "      <th>0</th>\n",
              "      <td>1</td>\n",
              "      <td>0</td>\n",
              "      <td>3</td>\n",
              "      <td>Braund, Mr. Owen Harris</td>\n",
              "      <td>1</td>\n",
              "      <td>0.271174</td>\n",
              "      <td>1</td>\n",
              "      <td>0</td>\n",
              "      <td>A/5 21171</td>\n",
              "      <td>0.014151</td>\n",
              "      <td>NaN</td>\n",
              "      <td>1.0</td>\n",
              "    </tr>\n",
              "    <tr>\n",
              "      <th>1</th>\n",
              "      <td>2</td>\n",
              "      <td>1</td>\n",
              "      <td>1</td>\n",
              "      <td>Cumings, Mrs. John Bradley (Florence Briggs Th...</td>\n",
              "      <td>2</td>\n",
              "      <td>0.472229</td>\n",
              "      <td>1</td>\n",
              "      <td>0</td>\n",
              "      <td>PC 17599</td>\n",
              "      <td>0.139136</td>\n",
              "      <td>C85</td>\n",
              "      <td>2.0</td>\n",
              "    </tr>\n",
              "    <tr>\n",
              "      <th>2</th>\n",
              "      <td>3</td>\n",
              "      <td>1</td>\n",
              "      <td>3</td>\n",
              "      <td>Heikkinen, Miss. Laina</td>\n",
              "      <td>2</td>\n",
              "      <td>0.321438</td>\n",
              "      <td>0</td>\n",
              "      <td>0</td>\n",
              "      <td>STON/O2. 3101282</td>\n",
              "      <td>0.015469</td>\n",
              "      <td>NaN</td>\n",
              "      <td>1.0</td>\n",
              "    </tr>\n",
              "    <tr>\n",
              "      <th>3</th>\n",
              "      <td>4</td>\n",
              "      <td>1</td>\n",
              "      <td>1</td>\n",
              "      <td>Futrelle, Mrs. Jacques Heath (Lily May Peel)</td>\n",
              "      <td>2</td>\n",
              "      <td>0.434531</td>\n",
              "      <td>1</td>\n",
              "      <td>0</td>\n",
              "      <td>113803</td>\n",
              "      <td>0.103644</td>\n",
              "      <td>C123</td>\n",
              "      <td>1.0</td>\n",
              "    </tr>\n",
              "    <tr>\n",
              "      <th>4</th>\n",
              "      <td>5</td>\n",
              "      <td>0</td>\n",
              "      <td>3</td>\n",
              "      <td>Allen, Mr. William Henry</td>\n",
              "      <td>1</td>\n",
              "      <td>0.434531</td>\n",
              "      <td>0</td>\n",
              "      <td>0</td>\n",
              "      <td>373450</td>\n",
              "      <td>0.015713</td>\n",
              "      <td>NaN</td>\n",
              "      <td>1.0</td>\n",
              "    </tr>\n",
              "  </tbody>\n",
              "</table>\n",
              "</div>"
            ],
            "text/plain": [
              "   PassengerId  Survived  Pclass  ...      Fare  Cabin  Embarked\n",
              "0            1         0       3  ...  0.014151    NaN       1.0\n",
              "1            2         1       1  ...  0.139136    C85       2.0\n",
              "2            3         1       3  ...  0.015469    NaN       1.0\n",
              "3            4         1       1  ...  0.103644   C123       1.0\n",
              "4            5         0       3  ...  0.015713    NaN       1.0\n",
              "\n",
              "[5 rows x 12 columns]"
            ]
          },
          "metadata": {
            "tags": []
          },
          "execution_count": 36
        }
      ]
    },
    {
      "cell_type": "code",
      "metadata": {
        "id": "Swejq46V8cAf"
      },
      "source": [
        "#Normalization\n",
        "scaler = MinMaxScaler()\n",
        "df[[\"Age\"]] = scaler.fit_transform(df[[\"Age\"]])\n",
        "df[[\"Fare\"]] = scaler.fit_transform(df[[\"Fare\"]])"
      ],
      "execution_count": null,
      "outputs": []
    },
    {
      "cell_type": "code",
      "metadata": {
        "colab": {
          "base_uri": "https://localhost:8080/",
          "height": 514
        },
        "id": "XSHUS0ajmZ45",
        "outputId": "35c6894c-d378-4587-8cf4-68f18e0d6dbf"
      },
      "source": [
        "#Correalations with survived and all the others variables\n",
        "corr_df = pd.DataFrame(abs(df.corr()['Survived']).sort_values(ascending=False) )\n",
        "corr_df['index'] = corr_df.index\n",
        "plt.figure(figsize=(20,8))\n",
        "sns.barplot(x='index',y='Survived',data=corr_df)"
      ],
      "execution_count": null,
      "outputs": [
        {
          "output_type": "execute_result",
          "data": {
            "text/plain": [
              "<matplotlib.axes._subplots.AxesSubplot at 0x7fc5572d66d0>"
            ]
          },
          "metadata": {
            "tags": []
          },
          "execution_count": 37
        },
        {
          "output_type": "display_data",
          "data": {
            "image/png": "[encoded data removed]",
            "text/plain": [
              "<Figure size 1440x576 with 1 Axes>"
            ]
          },
          "metadata": {
            "tags": [],
            "needs_background": "light"
          }
        }
      ]
    },
    {
      "cell_type": "code",
      "metadata": {
        "id": "N46uogGKJ-zb"
      },
      "source": [
        "valid_arr = [\"Sex\", \"Pclass\", \"Fare\", \"Embarked\", \"Parch\", \"Age\", \"SibSp\"]"
      ],
      "execution_count": null,
      "outputs": []
    },
    {
      "cell_type": "code",
      "metadata": {
        "id": "cJ-Y4SWyGijt"
      },
      "source": [
        "#Based on the above barplot, delete \"PasengerId\", \"Name\", \"Ticket\", \"Cabin\"\n",
        "X = df[valid_arr]"
      ],
      "execution_count": null,
      "outputs": []
    },
    {
      "cell_type": "code",
      "metadata": {
        "id": "LNySvge7X7-A"
      },
      "source": [
        "y = df[[\"Survived\"]]"
      ],
      "execution_count": null,
      "outputs": []
    },
    {
      "cell_type": "code",
      "metadata": {
        "id": "d6GSl0qWvI9x"
      },
      "source": [
        "X.isnull().sum()"
      ],
      "execution_count": null,
      "outputs": []
    },
    {
      "cell_type": "code",
      "metadata": {
        "id": "_tggsgElwQNY"
      },
      "source": [
        "y.isnull().sum()"
      ],
      "execution_count": null,
      "outputs": []
    },
    {
      "cell_type": "code",
      "metadata": {
        "id": "AH_Sb91vW2vi"
      },
      "source": [
        "X_train, X_test, y_train, y_test = train_test_split(X, y, test_size=0.2, random_state=234)"
      ],
      "execution_count": null,
      "outputs": []
    },
    {
      "cell_type": "code",
      "metadata": {
        "id": "f3GSROgc37QZ"
      },
      "source": [
        "from sklearn.neighbors import KNeighborsClassifier\n",
        "from sklearn.svm import SVC\n",
        "from sklearn.tree import DecisionTreeClassifier\n",
        "from sklearn.ensemble import RandomForestClassifier, AdaBoostClassifier\n",
        "from sklearn.naive_bayes import GaussianNB\n",
        "from sklearn.discriminant_analysis import LinearDiscriminantAnalysis as LDA\n",
        "from sklearn.discriminant_analysis import QuadraticDiscriminantAnalysis as QDA\n",
        "from sklearn.neural_network import MLPClassifier\n",
        "from sklearn.linear_model import LogisticRegression\n",
        "from sklearn.ensemble import GradientBoostingClassifier\n",
        "from lightgbm import LGBMClassifier"
      ],
      "execution_count": null,
      "outputs": []
    },
    {
      "cell_type": "code",
      "metadata": {
        "id": "6jqspS2V4Mxx"
      },
      "source": [
        "result = {}\n",
        "models = [\n",
        "    KNeighborsClassifier(),\n",
        "    SVC(),\n",
        "    DecisionTreeClassifier(),\n",
        "    RandomForestClassifier(),\n",
        "    AdaBoostClassifier(),\n",
        "    GaussianNB(),\n",
        "    LDA(),\n",
        "    QDA(),\n",
        "    MLPClassifier(),\n",
        "    LogisticRegression(),\n",
        "    GradientBoostingClassifier(),\n",
        "    LGBMClassifier()]\n",
        "models_name = [\"KNN\", \"SVC\", \"DT\", \"RF\", \"Adaboost\", \"GaussianNB\", \"LDA\", \"QDA\", \"Multilayer Perceptron\", \"LogisticRegression\", \"xgb\", \"lgbm\"]"
      ],
      "execution_count": null,
      "outputs": []
    },
    {
      "cell_type": "code",
      "metadata": {
        "id": "CFjLaoG1y-yy"
      },
      "source": [
        "from sklearn.metrics import accuracy_score\n",
        "from sklearn.model_selection import cross_val_score\n"
      ],
      "execution_count": null,
      "outputs": []
    },
    {
      "cell_type": "code",
      "metadata": {
        "id": "XlBkh4U7gN3f"
      },
      "source": [
        "for i,model in enumerate(models):\n",
        "    print(\"%s Model fitting......\"%models_name[i])\n",
        "    model.fit(X_train, y_train)\n",
        "    y_train_pred = model.predict(X_train)\n",
        "    y_test_pred = model.predict(X_test)\n",
        "    \n",
        "    result[models_name[i]] = {}\n",
        "    result[models_name[i]][\"accuracy_training\"] = accuracy_score(y_train, y_train_pred)\n",
        "    result[models_name[i]][\"accuracy_testing\"] = accuracy_score(y_test, y_test_pred)\n",
        "    result[models_name[i]][\"cross_val_score_training\"] = cross_val_score(model, y_train, y_train_pred, cv=5).mean()\n",
        "    result[models_name[i]][\"cross_val_score_testing\"] = cross_val_score(model, y_test, y_test_pred, cv=5).mean()\n"
      ],
      "execution_count": null,
      "outputs": []
    },
    {
      "cell_type": "code",
      "metadata": {
        "colab": {
          "base_uri": "https://localhost:8080/",
          "height": 190
        },
        "id": "CYonUH19hGPb",
        "outputId": "48ade2d3-d850-477f-f9bc-99afc12a4eda"
      },
      "source": [
        "pd.DataFrame(result)"
      ],
      "execution_count": null,
      "outputs": [
        {
          "output_type": "execute_result",
          "data": {
            "text/html": [
              "<div>\n",
              "<style scoped>\n",
              "    .dataframe tbody tr th:only-of-type {\n",
              "        vertical-align: middle;\n",
              "    }\n",
              "\n",
              "    .dataframe tbody tr th {\n",
              "        vertical-align: top;\n",
              "    }\n",
              "\n",
              "    .dataframe thead th {\n",
              "        text-align: right;\n",
              "    }\n",
              "</style>\n",
              "<table border=\"1\" class=\"dataframe\">\n",
              "  <thead>\n",
              "    <tr style=\"text-align: right;\">\n",
              "      <th></th>\n",
              "      <th>KNN</th>\n",
              "      <th>SVC</th>\n",
              "      <th>DT</th>\n",
              "      <th>RF</th>\n",
              "      <th>Adaboost</th>\n",
              "      <th>GaussianNB</th>\n",
              "      <th>LDA</th>\n",
              "      <th>QDA</th>\n",
              "      <th>Multilayer Perceptron</th>\n",
              "      <th>LogisticRegression</th>\n",
              "      <th>xgb</th>\n",
              "      <th>lgbm</th>\n",
              "    </tr>\n",
              "  </thead>\n",
              "  <tbody>\n",
              "    <tr>\n",
              "      <th>accuracy_training</th>\n",
              "      <td>0.869382</td>\n",
              "      <td>0.813202</td>\n",
              "      <td>0.984551</td>\n",
              "      <td>0.984551</td>\n",
              "      <td>0.837079</td>\n",
              "      <td>0.787921</td>\n",
              "      <td>0.793539</td>\n",
              "      <td>0.810393</td>\n",
              "      <td>0.820225</td>\n",
              "      <td>0.807584</td>\n",
              "      <td>0.898876</td>\n",
              "      <td>0.942416</td>\n",
              "    </tr>\n",
              "    <tr>\n",
              "      <th>accuracy_testing</th>\n",
              "      <td>0.759777</td>\n",
              "      <td>0.793296</td>\n",
              "      <td>0.765363</td>\n",
              "      <td>0.798883</td>\n",
              "      <td>0.798883</td>\n",
              "      <td>0.793296</td>\n",
              "      <td>0.798883</td>\n",
              "      <td>0.798883</td>\n",
              "      <td>0.804469</td>\n",
              "      <td>0.793296</td>\n",
              "      <td>0.804469</td>\n",
              "      <td>0.798883</td>\n",
              "    </tr>\n",
              "    <tr>\n",
              "      <th>cross_val_score_training</th>\n",
              "      <td>0.869447</td>\n",
              "      <td>0.813316</td>\n",
              "      <td>0.984546</td>\n",
              "      <td>0.984537</td>\n",
              "      <td>0.837230</td>\n",
              "      <td>0.788082</td>\n",
              "      <td>0.793657</td>\n",
              "      <td>0.810558</td>\n",
              "      <td>0.820329</td>\n",
              "      <td>0.807692</td>\n",
              "      <td>0.898976</td>\n",
              "      <td>0.942451</td>\n",
              "    </tr>\n",
              "    <tr>\n",
              "      <th>cross_val_score_testing</th>\n",
              "      <td>0.675556</td>\n",
              "      <td>0.793651</td>\n",
              "      <td>0.765238</td>\n",
              "      <td>0.798730</td>\n",
              "      <td>0.799365</td>\n",
              "      <td>0.793651</td>\n",
              "      <td>0.799206</td>\n",
              "      <td>0.799048</td>\n",
              "      <td>0.804921</td>\n",
              "      <td>0.793651</td>\n",
              "      <td>0.804603</td>\n",
              "      <td>0.799048</td>\n",
              "    </tr>\n",
              "  </tbody>\n",
              "</table>\n",
              "</div>"
            ],
            "text/plain": [
              "                               KNN       SVC  ...       xgb      lgbm\n",
              "accuracy_training         0.869382  0.813202  ...  0.898876  0.942416\n",
              "accuracy_testing          0.759777  0.793296  ...  0.804469  0.798883\n",
              "cross_val_score_training  0.869447  0.813316  ...  0.898976  0.942451\n",
              "cross_val_score_testing   0.675556  0.793651  ...  0.804603  0.799048\n",
              "\n",
              "[4 rows x 12 columns]"
            ]
          },
          "metadata": {
            "tags": []
          },
          "execution_count": 59
        }
      ]
    },
    {
      "cell_type": "code",
      "metadata": {
        "id": "CXcmbLcfB9uD"
      },
      "source": [
        "models[8]"
      ],
      "execution_count": null,
      "outputs": []
    },
    {
      "cell_type": "code",
      "metadata": {
        "id": "YypvHOmBHA23"
      },
      "source": [
        "result_mlp = {}\n",
        "models_mlp = [\n",
        "            MLPClassifier(learning_rate_init = 0.001),\n",
        "            MLPClassifier(learning_rate_init = 0.01),\n",
        "            MLPClassifier(learning_rate_init = 0.05),\n",
        "            MLPClassifier(learning_rate_init = 0.1)\n",
        "            ]\n",
        "models_mlp_name = [\"learning_rate = 0.001\", \"learning_rate = 0.01\", \"learning_rate = 0.05\", \"learning_rate = 0.1\"]\n",
        "\n",
        "#############\n",
        "\n",
        "for i,model in enumerate(models_mlp):\n",
        "    print(\"%s Model fitting......\"%models_mlp_name[i])\n",
        "    model.fit(X_train, y_train)\n",
        "    y_train_pred = model.predict(X_train)\n",
        "    y_test_pred = model.predict(X_test)\n",
        "    \n",
        "    result_mlp[models_mlp_name[i]] = {}\n",
        "    result_mlp[models_mlp_name[i]][\"accuracy_training\"] = accuracy_score(y_train, y_train_pred)\n",
        "    result_mlp[models_mlp_name[i]][\"accuracy_testing\"] = accuracy_score(y_test, y_test_pred)\n",
        "    result_mlp[models_mlp_name[i]][\"cross_val_score_training\"] = cross_val_score(model, y_train, y_train_pred, cv=5).mean()\n",
        "    result_mlp[models_mlp_name[i]][\"cross_val_score_testing\"] = cross_val_score(model, y_test, y_test_pred, cv=5).mean()"
      ],
      "execution_count": null,
      "outputs": []
    },
    {
      "cell_type": "code",
      "metadata": {
        "colab": {
          "base_uri": "https://localhost:8080/",
          "height": 173
        },
        "id": "fN8Qy8viMfbR",
        "outputId": "db2b3c51-f2d2-4eb7-a92b-83f0503e624c"
      },
      "source": [
        "pd.DataFrame(result_mlp)"
      ],
      "execution_count": null,
      "outputs": [
        {
          "output_type": "execute_result",
          "data": {
            "text/html": [
              "<div>\n",
              "<style scoped>\n",
              "    .dataframe tbody tr th:only-of-type {\n",
              "        vertical-align: middle;\n",
              "    }\n",
              "\n",
              "    .dataframe tbody tr th {\n",
              "        vertical-align: top;\n",
              "    }\n",
              "\n",
              "    .dataframe thead th {\n",
              "        text-align: right;\n",
              "    }\n",
              "</style>\n",
              "<table border=\"1\" class=\"dataframe\">\n",
              "  <thead>\n",
              "    <tr style=\"text-align: right;\">\n",
              "      <th></th>\n",
              "      <th>learning_rate = 0.001</th>\n",
              "      <th>learning_rate = 0.01</th>\n",
              "      <th>learning_rate = 0.05</th>\n",
              "      <th>learning_rate = 0.1</th>\n",
              "    </tr>\n",
              "  </thead>\n",
              "  <tbody>\n",
              "    <tr>\n",
              "      <th>accuracy_training</th>\n",
              "      <td>0.818820</td>\n",
              "      <td>0.842697</td>\n",
              "      <td>0.830056</td>\n",
              "      <td>0.841292</td>\n",
              "    </tr>\n",
              "    <tr>\n",
              "      <th>accuracy_testing</th>\n",
              "      <td>0.821229</td>\n",
              "      <td>0.826816</td>\n",
              "      <td>0.793296</td>\n",
              "      <td>0.810056</td>\n",
              "    </tr>\n",
              "    <tr>\n",
              "      <th>cross_val_score_training</th>\n",
              "      <td>0.818950</td>\n",
              "      <td>0.842815</td>\n",
              "      <td>0.830119</td>\n",
              "      <td>0.841416</td>\n",
              "    </tr>\n",
              "    <tr>\n",
              "      <th>cross_val_score_testing</th>\n",
              "      <td>0.821587</td>\n",
              "      <td>0.827143</td>\n",
              "      <td>0.793492</td>\n",
              "      <td>0.810476</td>\n",
              "    </tr>\n",
              "  </tbody>\n",
              "</table>\n",
              "</div>"
            ],
            "text/plain": [
              "                          learning_rate = 0.001  ...  learning_rate = 0.1\n",
              "accuracy_training                      0.818820  ...             0.841292\n",
              "accuracy_testing                       0.821229  ...             0.810056\n",
              "cross_val_score_training               0.818950  ...             0.841416\n",
              "cross_val_score_testing                0.821587  ...             0.810476\n",
              "\n",
              "[4 rows x 4 columns]"
            ]
          },
          "metadata": {
            "tags": []
          },
          "execution_count": 81
        }
      ]
    },
    {
      "cell_type": "code",
      "metadata": {
        "id": "gw9WmVGHIV_a"
      },
      "source": [
        "result_xgb = {}\n",
        "models_xgb = [\n",
        "            GradientBoostingClassifier(max_depth=2),\n",
        "            GradientBoostingClassifier(max_depth=4),\n",
        "            GradientBoostingClassifier(max_depth=6),\n",
        "            GradientBoostingClassifier(max_depth=8),\n",
        "            GradientBoostingClassifier(max_depth=10) \n",
        "            ]\n",
        "models_xgb_name = [\"max_depth=2\", \"max_depth=4\", \"max_depth=6\", \"max_depth=8\", \"max_depth=10\"]\n",
        "\n",
        "#############\n",
        "\n",
        "for i,model in enumerate(models_xgb):\n",
        "    print(\"%s Model fitting......\"%models_xgb_name[i])\n",
        "    model.fit(X_train, y_train)\n",
        "    y_train_pred = model.predict(X_train)\n",
        "    y_test_pred = model.predict(X_test)\n",
        "    \n",
        "    result_xgb[models_xgb_name[i]] = {}\n",
        "    result_xgb[models_xgb_name[i]][\"accuracy_training\"] = accuracy_score(y_train, y_train_pred)\n",
        "    result_xgb[models_xgb_name[i]][\"accuracy_testing\"] = accuracy_score(y_test, y_test_pred)\n",
        "    result_xgb[models_xgb_name[i]][\"cross_val_score_training\"] = cross_val_score(model, y_train, y_train_pred, cv=5).mean()\n",
        "    result_xgb[models_xgb_name[i]][\"cross_val_score_testing\"] = cross_val_score(model, y_test, y_test_pred, cv=5).mean()"
      ],
      "execution_count": null,
      "outputs": []
    },
    {
      "cell_type": "code",
      "metadata": {
        "colab": {
          "base_uri": "https://localhost:8080/",
          "height": 173
        },
        "id": "e5bgYsahMavX",
        "outputId": "607e4648-48a0-4a84-8180-09ffca528314"
      },
      "source": [
        "pd.DataFrame(result_xgb)"
      ],
      "execution_count": null,
      "outputs": [
        {
          "output_type": "execute_result",
          "data": {
            "text/html": [
              "<div>\n",
              "<style scoped>\n",
              "    .dataframe tbody tr th:only-of-type {\n",
              "        vertical-align: middle;\n",
              "    }\n",
              "\n",
              "    .dataframe tbody tr th {\n",
              "        vertical-align: top;\n",
              "    }\n",
              "\n",
              "    .dataframe thead th {\n",
              "        text-align: right;\n",
              "    }\n",
              "</style>\n",
              "<table border=\"1\" class=\"dataframe\">\n",
              "  <thead>\n",
              "    <tr style=\"text-align: right;\">\n",
              "      <th></th>\n",
              "      <th>max_depth=2</th>\n",
              "      <th>max_depth=4</th>\n",
              "      <th>max_depth=6</th>\n",
              "      <th>max_depth=8</th>\n",
              "      <th>max_depth=10</th>\n",
              "    </tr>\n",
              "  </thead>\n",
              "  <tbody>\n",
              "    <tr>\n",
              "      <th>accuracy_training</th>\n",
              "      <td>0.846910</td>\n",
              "      <td>0.939607</td>\n",
              "      <td>0.971910</td>\n",
              "      <td>0.984551</td>\n",
              "      <td>0.984551</td>\n",
              "    </tr>\n",
              "    <tr>\n",
              "      <th>accuracy_testing</th>\n",
              "      <td>0.793296</td>\n",
              "      <td>0.821229</td>\n",
              "      <td>0.804469</td>\n",
              "      <td>0.798883</td>\n",
              "      <td>0.787709</td>\n",
              "    </tr>\n",
              "    <tr>\n",
              "      <th>cross_val_score_training</th>\n",
              "      <td>0.847001</td>\n",
              "      <td>0.939683</td>\n",
              "      <td>0.971929</td>\n",
              "      <td>0.984546</td>\n",
              "      <td>0.984546</td>\n",
              "    </tr>\n",
              "    <tr>\n",
              "      <th>cross_val_score_testing</th>\n",
              "      <td>0.793810</td>\n",
              "      <td>0.821587</td>\n",
              "      <td>0.804603</td>\n",
              "      <td>0.798730</td>\n",
              "      <td>0.787778</td>\n",
              "    </tr>\n",
              "  </tbody>\n",
              "</table>\n",
              "</div>"
            ],
            "text/plain": [
              "                          max_depth=2  max_depth=4  ...  max_depth=8  max_depth=10\n",
              "accuracy_training            0.846910     0.939607  ...     0.984551      0.984551\n",
              "accuracy_testing             0.793296     0.821229  ...     0.798883      0.787709\n",
              "cross_val_score_training     0.847001     0.939683  ...     0.984546      0.984546\n",
              "cross_val_score_testing      0.793810     0.821587  ...     0.798730      0.787778\n",
              "\n",
              "[4 rows x 5 columns]"
            ]
          },
          "metadata": {
            "tags": []
          },
          "execution_count": 80
        }
      ]
    },
    {
      "cell_type": "code",
      "metadata": {
        "id": "JaBm0h5Z2guU"
      },
      "source": [
        "def to_sub_csv(filename,model,valid_arr):\n",
        "    X_t = df_test[valid_arr]\n",
        "    y_t_pred = model.fit(X_train, y_train).predict(X_t)\n",
        "    submit_survived = y_t_pred\n",
        "    submit = pd.DataFrame({\"PassengerId\":df_test[\"PassengerId\"],\n",
        "                  \"Survived\":submit_survived})\n",
        "    submit.to_csv('%s.csv'%filename, index=False)"
      ],
      "execution_count": null,
      "outputs": []
    },
    {
      "cell_type": "code",
      "metadata": {
        "id": "zulbwlJ64sIc"
      },
      "source": [
        "for i,model in enumerate(models_mlp):\n",
        "    print(models_name[i])\n",
        "    to_sub_csv(\"%s_submission\"%models_mlp_name[i], models_mlp[i], valid_arr)"
      ],
      "execution_count": null,
      "outputs": []
    },
    {
      "cell_type": "code",
      "metadata": {
        "id": "dhI21G3p6B9O"
      },
      "source": [
        ""
      ],
      "execution_count": null,
      "outputs": []
    }
  ]
}